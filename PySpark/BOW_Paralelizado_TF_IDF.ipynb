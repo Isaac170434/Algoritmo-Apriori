{
  "nbformat": 4,
  "nbformat_minor": 0,
  "metadata": {
    "colab": {
      "name": "BOW Paralelizado - TF IDF.ipynb",
      "provenance": []
    },
    "kernelspec": {
      "name": "python3",
      "display_name": "Python 3"
    },
    "language_info": {
      "name": "python"
    }
  },
  "cells": [
    {
      "cell_type": "markdown",
      "source": [
        "# **Mineria de Datos**\n",
        "# **BOW Paralelizado - TF-IDF**\n",
        "-----------------------------------\n",
        "### **Nombres:** Antony Isaac Huaman Hermoza\n",
        "### **Código:** 170434\n",
        "-----------------------------------"
      ],
      "metadata": {
        "id": "xGsj7XKrCqGZ"
      }
    },
    {
      "cell_type": "markdown",
      "source": [
        "## **Insatalamos PySpark**"
      ],
      "metadata": {
        "id": "IQXf0XMRChP8"
      }
    },
    {
      "cell_type": "code",
      "execution_count": 1,
      "metadata": {
        "colab": {
          "base_uri": "https://localhost:8080/"
        },
        "id": "2s_lxd8ZBWJn",
        "outputId": "5d0252bf-503e-4470-df36-2a3801e4bcee"
      },
      "outputs": [
        {
          "output_type": "stream",
          "name": "stdout",
          "text": [
            "Collecting pyspark==3.0.1\n",
            "  Downloading pyspark-3.0.1.tar.gz (204.2 MB)\n",
            "\u001b[K     |████████████████████████████████| 204.2 MB 36 kB/s \n",
            "\u001b[?25hCollecting py4j==0.10.9\n",
            "  Downloading py4j-0.10.9-py2.py3-none-any.whl (198 kB)\n",
            "\u001b[K     |████████████████████████████████| 198 kB 47.4 MB/s \n",
            "\u001b[?25hBuilding wheels for collected packages: pyspark\n",
            "  Building wheel for pyspark (setup.py) ... \u001b[?25l\u001b[?25hdone\n",
            "  Created wheel for pyspark: filename=pyspark-3.0.1-py2.py3-none-any.whl size=204612246 sha256=fa0cb0a435da858fd131de26011b15a474fb12298956a6e96ed793240dc0e23e\n",
            "  Stored in directory: /root/.cache/pip/wheels/5e/34/fa/b37b5cef503fc5148b478b2495043ba61b079120b7ff379f9b\n",
            "Successfully built pyspark\n",
            "Installing collected packages: py4j, pyspark\n",
            "Successfully installed py4j-0.10.9 pyspark-3.0.1\n"
          ]
        }
      ],
      "source": [
        "!pip install pyspark==3.0.1 py4j==0.10.9"
      ]
    },
    {
      "cell_type": "markdown",
      "source": [
        "## **Improtamos librerias**"
      ],
      "metadata": {
        "id": "1px1rn5oCb4A"
      }
    },
    {
      "cell_type": "code",
      "source": [
        "from pyspark import SparkContext\n",
        "sc = SparkContext.getOrCreate()\n",
        "import math\n",
        "\n",
        "from pyspark.sql.functions import *\n",
        "from pyspark.sql import SparkSession\n",
        "from pyspark import SparkContext, SparkConf\n",
        "sc =SparkContext.getOrCreate()\n",
        "import os\n",
        "import re\n",
        "import nltk.corpus\n",
        "from nltk import corpus"
      ],
      "metadata": {
        "id": "nHPhRT8gBYgJ"
      },
      "execution_count": 2,
      "outputs": []
    },
    {
      "cell_type": "markdown",
      "source": [
        "**BOW Paralelizado**"
      ],
      "metadata": {
        "id": "kOusmLJnCnbV"
      }
    },
    {
      "cell_type": "code",
      "source": [
        "#Creamos datos para nuestro o bag of words\n",
        "data=[(1,'Jake Paul se enfoca en las artes marciales mixtas'),\n",
        "      (2,\"El debut de Messi en 2022 tendrá que esperar\"),\n",
        "      (3,\"El caso de Djokovic ha ido mucho más allá de una cuestión de visado\"),\n",
        "      (4,\"La tenista checa Renata Voracova se fue de Australia\")]\n",
        "data"
      ],
      "metadata": {
        "colab": {
          "base_uri": "https://localhost:8080/"
        },
        "id": "6ugeWTCOBsgN",
        "outputId": "60e2cf78-4cfe-4e9b-89a3-c711a281e287"
      },
      "execution_count": 3,
      "outputs": [
        {
          "output_type": "execute_result",
          "data": {
            "text/plain": [
              "[(1, 'Jake Paul se enfoca en las artes marciales mixtas'),\n",
              " (2, 'El debut de Messi en 2022 tendrá que esperar'),\n",
              " (3, 'El caso de Djokovic ha ido mucho más allá de una cuestión de visado'),\n",
              " (4, 'La tenista checa Renata Voracova se fue de Australia')]"
            ]
          },
          "metadata": {},
          "execution_count": 3
        }
      ]
    },
    {
      "cell_type": "code",
      "source": [
        "# Paraleliazmos nuestro data\n",
        "lines=sc.parallelize(data)\n",
        "# Recupera todos los elementos del lines\n",
        "lines.collect()\n",
        "map1=lines.flatMap(lambda x: [((x[0],i),1) for i in x[1].split()])\n",
        "# Recupera todos los elementos del map1\n",
        "map1.collect()\n",
        "#Map Reduce\n",
        "reduce=map1.reduceByKey(lambda x,y:x+y)\n",
        "#BOG de las 4 oraciones\n",
        "reduce.collect()"
      ],
      "metadata": {
        "colab": {
          "base_uri": "https://localhost:8080/"
        },
        "id": "kfzZUWpJCR3r",
        "outputId": "ce10eb87-3c1f-4e8c-fd5b-06b674a57dde"
      },
      "execution_count": 4,
      "outputs": [
        {
          "output_type": "execute_result",
          "data": {
            "text/plain": [
              "[((1, 'Paul'), 1),\n",
              " ((1, 'se'), 1),\n",
              " ((1, 'enfoca'), 1),\n",
              " ((1, 'las'), 1),\n",
              " ((1, 'artes'), 1),\n",
              " ((1, 'mixtas'), 1),\n",
              " ((2, 'en'), 1),\n",
              " ((2, 'que'), 1),\n",
              " ((3, 'El'), 1),\n",
              " ((3, 'de'), 3),\n",
              " ((3, 'ha'), 1),\n",
              " ((3, 'más'), 1),\n",
              " ((3, 'allá'), 1),\n",
              " ((3, 'una'), 1),\n",
              " ((4, 'tenista'), 1),\n",
              " ((4, 'Renata'), 1),\n",
              " ((4, 'Australia'), 1),\n",
              " ((1, 'Jake'), 1),\n",
              " ((1, 'en'), 1),\n",
              " ((1, 'marciales'), 1),\n",
              " ((2, 'El'), 1),\n",
              " ((2, 'debut'), 1),\n",
              " ((2, 'de'), 1),\n",
              " ((2, 'Messi'), 1),\n",
              " ((2, '2022'), 1),\n",
              " ((2, 'tendrá'), 1),\n",
              " ((2, 'esperar'), 1),\n",
              " ((3, 'caso'), 1),\n",
              " ((3, 'Djokovic'), 1),\n",
              " ((3, 'ido'), 1),\n",
              " ((3, 'mucho'), 1),\n",
              " ((3, 'cuestión'), 1),\n",
              " ((3, 'visado'), 1),\n",
              " ((4, 'La'), 1),\n",
              " ((4, 'checa'), 1),\n",
              " ((4, 'Voracova'), 1),\n",
              " ((4, 'se'), 1),\n",
              " ((4, 'fue'), 1),\n",
              " ((4, 'de'), 1)]"
            ]
          },
          "metadata": {},
          "execution_count": 4
        }
      ]
    },
    {
      "cell_type": "markdown",
      "source": [
        "**TF-IDF**"
      ],
      "metadata": {
        "id": "Ag4ytI_MDcZ8"
      }
    },
    {
      "cell_type": "code",
      "source": [
        "######################################\n",
        "### TF ###\n",
        "######################################\n",
        "\n",
        "# Algoritmo termino de frecuencia (TF)\n",
        "tf=reduce.map(lambda x: (x[0][1],(x[0][0],x[1])))\n",
        "tf.collect()\n",
        "\n",
        "map3=reduce.map(lambda x: (x[0][1],(x[0][0],x[1],1)))\n",
        "map3.collect()\n",
        "\n",
        "map4=map3.map(lambda x:(x[0],x[1][2]))\n",
        "map4.collect()\n",
        "\n",
        "reduce2=map4.reduceByKey(lambda x,y:x+y)\n",
        "reduce2.collect()"
      ],
      "metadata": {
        "colab": {
          "base_uri": "https://localhost:8080/"
        },
        "id": "Ni13RdHHDdiz",
        "outputId": "16eea94c-77ae-40e1-f36a-27f1c97becc0"
      },
      "execution_count": 5,
      "outputs": [
        {
          "output_type": "execute_result",
          "data": {
            "text/plain": [
              "[('en', 2),\n",
              " ('que', 1),\n",
              " ('tenista', 1),\n",
              " ('Renata', 1),\n",
              " ('Australia', 1),\n",
              " ('Jake', 1),\n",
              " ('marciales', 1),\n",
              " ('caso', 1),\n",
              " ('Djokovic', 1),\n",
              " ('ido', 1),\n",
              " ('mucho', 1),\n",
              " ('cuestión', 1),\n",
              " ('visado', 1),\n",
              " ('Paul', 1),\n",
              " ('se', 2),\n",
              " ('enfoca', 1),\n",
              " ('las', 1),\n",
              " ('artes', 1),\n",
              " ('mixtas', 1),\n",
              " ('El', 2),\n",
              " ('de', 3),\n",
              " ('ha', 1),\n",
              " ('más', 1),\n",
              " ('allá', 1),\n",
              " ('una', 1),\n",
              " ('debut', 1),\n",
              " ('Messi', 1),\n",
              " ('2022', 1),\n",
              " ('tendrá', 1),\n",
              " ('esperar', 1),\n",
              " ('La', 1),\n",
              " ('checa', 1),\n",
              " ('Voracova', 1),\n",
              " ('fue', 1)]"
            ]
          },
          "metadata": {},
          "execution_count": 5
        }
      ]
    },
    {
      "cell_type": "code",
      "source": [
        "######################################\n",
        "### IF ###\n",
        "######################################\n",
        "# Algoritmo termino de frecuencia (IDF)\n",
        "idf=reduce2.map(lambda x: (x[0],math.log10(len(data)/x[1])))\n",
        "idf.collect()\n",
        "\n",
        "rdd=tf.join(idf)\n",
        "rdd.collect()"
      ],
      "metadata": {
        "colab": {
          "base_uri": "https://localhost:8080/"
        },
        "id": "bjUWGnJUDpu0",
        "outputId": "25cfd303-ded9-4e28-df96-bd099e972bab"
      },
      "execution_count": 6,
      "outputs": [
        {
          "output_type": "execute_result",
          "data": {
            "text/plain": [
              "[('caso', ((3, 1), 0.6020599913279624)),\n",
              " ('Djokovic', ((3, 1), 0.6020599913279624)),\n",
              " ('mucho', ((3, 1), 0.6020599913279624)),\n",
              " ('cuestión', ((3, 1), 0.6020599913279624)),\n",
              " ('visado', ((3, 1), 0.6020599913279624)),\n",
              " ('se', ((1, 1), 0.3010299956639812)),\n",
              " ('se', ((4, 1), 0.3010299956639812)),\n",
              " ('enfoca', ((1, 1), 0.6020599913279624)),\n",
              " ('las', ((1, 1), 0.6020599913279624)),\n",
              " ('El', ((3, 1), 0.3010299956639812)),\n",
              " ('El', ((2, 1), 0.3010299956639812)),\n",
              " ('allá', ((3, 1), 0.6020599913279624)),\n",
              " ('una', ((3, 1), 0.6020599913279624)),\n",
              " ('debut', ((2, 1), 0.6020599913279624)),\n",
              " ('tendrá', ((2, 1), 0.6020599913279624)),\n",
              " ('esperar', ((2, 1), 0.6020599913279624)),\n",
              " ('La', ((4, 1), 0.6020599913279624)),\n",
              " ('checa', ((4, 1), 0.6020599913279624)),\n",
              " ('en', ((2, 1), 0.3010299956639812)),\n",
              " ('en', ((1, 1), 0.3010299956639812)),\n",
              " ('que', ((2, 1), 0.6020599913279624)),\n",
              " ('tenista', ((4, 1), 0.6020599913279624)),\n",
              " ('Renata', ((4, 1), 0.6020599913279624)),\n",
              " ('Australia', ((4, 1), 0.6020599913279624)),\n",
              " ('Jake', ((1, 1), 0.6020599913279624)),\n",
              " ('marciales', ((1, 1), 0.6020599913279624)),\n",
              " ('ido', ((3, 1), 0.6020599913279624)),\n",
              " ('Paul', ((1, 1), 0.6020599913279624)),\n",
              " ('artes', ((1, 1), 0.6020599913279624)),\n",
              " ('mixtas', ((1, 1), 0.6020599913279624)),\n",
              " ('de', ((3, 3), 0.12493873660829992)),\n",
              " ('de', ((2, 1), 0.12493873660829992)),\n",
              " ('de', ((4, 1), 0.12493873660829992)),\n",
              " ('ha', ((3, 1), 0.6020599913279624)),\n",
              " ('más', ((3, 1), 0.6020599913279624)),\n",
              " ('Messi', ((2, 1), 0.6020599913279624)),\n",
              " ('2022', ((2, 1), 0.6020599913279624)),\n",
              " ('Voracova', ((4, 1), 0.6020599913279624)),\n",
              " ('fue', ((4, 1), 0.6020599913279624))]"
            ]
          },
          "metadata": {},
          "execution_count": 6
        }
      ]
    },
    {
      "cell_type": "markdown",
      "source": [
        "**ENCUADRAMOS**"
      ],
      "metadata": {
        "id": "tgdh9wafD8pC"
      }
    },
    {
      "cell_type": "code",
      "source": [
        "# Algoritmo termino de frecuencia (TF-IDF)\n",
        "rdd=rdd.map(lambda x: (x[1][0][0],(x[0],x[1][0][1],x[1][1],x[1][0][1]*x[1][1]))).sortByKey()\n",
        "rdd.collect()\n",
        "\n",
        "spark = SparkSession(sc)\n",
        "rdd=rdd.map(lambda x: (x[0],x[1][0],x[1][1],x[1][2],x[1][3]))\n",
        "hasattr(rdd, \"toDF\")\n",
        "rdd.toDF([\"ID del Documento\",\"Token\",\"TF\",\"IDF\",\"TF-IDF\"]).show()"
      ],
      "metadata": {
        "colab": {
          "base_uri": "https://localhost:8080/"
        },
        "id": "X229avaED7Df",
        "outputId": "1a51bfce-20b7-4f32-b8cf-297e7e334484"
      },
      "execution_count": 7,
      "outputs": [
        {
          "output_type": "stream",
          "name": "stdout",
          "text": [
            "+----------------+---------+---+-------------------+-------------------+\n",
            "|ID del Documento|    Token| TF|                IDF|             TF-IDF|\n",
            "+----------------+---------+---+-------------------+-------------------+\n",
            "|               1|       se|  1| 0.3010299956639812| 0.3010299956639812|\n",
            "|               1|   enfoca|  1| 0.6020599913279624| 0.6020599913279624|\n",
            "|               1|      las|  1| 0.6020599913279624| 0.6020599913279624|\n",
            "|               1|       en|  1| 0.3010299956639812| 0.3010299956639812|\n",
            "|               1|     Jake|  1| 0.6020599913279624| 0.6020599913279624|\n",
            "|               1|marciales|  1| 0.6020599913279624| 0.6020599913279624|\n",
            "|               1|     Paul|  1| 0.6020599913279624| 0.6020599913279624|\n",
            "|               1|    artes|  1| 0.6020599913279624| 0.6020599913279624|\n",
            "|               1|   mixtas|  1| 0.6020599913279624| 0.6020599913279624|\n",
            "|               2|       El|  1| 0.3010299956639812| 0.3010299956639812|\n",
            "|               2|    debut|  1| 0.6020599913279624| 0.6020599913279624|\n",
            "|               2|   tendrá|  1| 0.6020599913279624| 0.6020599913279624|\n",
            "|               2|  esperar|  1| 0.6020599913279624| 0.6020599913279624|\n",
            "|               2|       en|  1| 0.3010299956639812| 0.3010299956639812|\n",
            "|               2|      que|  1| 0.6020599913279624| 0.6020599913279624|\n",
            "|               2|       de|  1|0.12493873660829992|0.12493873660829992|\n",
            "|               2|    Messi|  1| 0.6020599913279624| 0.6020599913279624|\n",
            "|               2|     2022|  1| 0.6020599913279624| 0.6020599913279624|\n",
            "|               3|     caso|  1| 0.6020599913279624| 0.6020599913279624|\n",
            "|               3| Djokovic|  1| 0.6020599913279624| 0.6020599913279624|\n",
            "+----------------+---------+---+-------------------+-------------------+\n",
            "only showing top 20 rows\n",
            "\n"
          ]
        }
      ]
    }
  ]
}