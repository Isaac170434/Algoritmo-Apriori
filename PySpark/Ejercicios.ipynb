{
  "nbformat": 4,
  "nbformat_minor": 0,
  "metadata": {
    "colab": {
      "name": "Ejercicios.ipynb",
      "provenance": []
    },
    "kernelspec": {
      "name": "python3",
      "display_name": "Python 3"
    },
    "language_info": {
      "name": "python"
    }
  },
  "cells": [
    {
      "cell_type": "markdown",
      "source": [
        "# **Mineria de Datos**\n",
        "# **Ejercicios**\n",
        "-----------------------------------\n",
        "### **Nombres:** Antony Isaac Huaman Hermoza\n",
        "### **Código:** 170434\n",
        "-----------------------------------"
      ],
      "metadata": {
        "id": "xGsj7XKrCqGZ"
      }
    },
    {
      "cell_type": "markdown",
      "source": [
        "## **Insatalamos PySpark**"
      ],
      "metadata": {
        "id": "IQXf0XMRChP8"
      }
    },
    {
      "cell_type": "code",
      "execution_count": 16,
      "metadata": {
        "colab": {
          "base_uri": "https://localhost:8080/"
        },
        "id": "2s_lxd8ZBWJn",
        "outputId": "087a5394-a42e-4c19-93cb-69661d2b824c"
      },
      "outputs": [
        {
          "output_type": "stream",
          "name": "stdout",
          "text": [
            "Requirement already satisfied: pyspark==3.0.1 in /usr/local/lib/python3.7/dist-packages (3.0.1)\n",
            "Requirement already satisfied: py4j==0.10.9 in /usr/local/lib/python3.7/dist-packages (0.10.9)\n"
          ]
        }
      ],
      "source": [
        "!pip install pyspark==3.0.1 py4j==0.10.9"
      ]
    },
    {
      "cell_type": "markdown",
      "source": [
        "## **Importamos librerias**"
      ],
      "metadata": {
        "id": "1px1rn5oCb4A"
      }
    },
    {
      "cell_type": "code",
      "source": [
        "from pyspark import SparkContext\n",
        "sc = SparkContext.getOrCreate()\n",
        "import math\n",
        "\n",
        "from pyspark.sql.functions import *\n",
        "from pyspark.sql import SparkSession\n",
        "from pyspark import SparkContext, SparkConf\n",
        "sc =SparkContext.getOrCreate()\n",
        "import os\n",
        "import re\n",
        "import nltk.corpus\n",
        "from nltk import corpus"
      ],
      "metadata": {
        "id": "nHPhRT8gBYgJ"
      },
      "execution_count": 18,
      "outputs": []
    },
    {
      "cell_type": "markdown",
      "source": [
        "**RDD**"
      ],
      "metadata": {
        "id": "ke8mtS4jHWPA"
      }
    },
    {
      "cell_type": "code",
      "source": [
        "ListaPalavras = ['loro', 'elefante', 'perro', 'rato', 'gato']\n",
        "palavrasRDD = sc.parallelize(ListaPalavras, 4)\n",
        "print(type(palavrasRDD))"
      ],
      "metadata": {
        "colab": {
          "base_uri": "https://localhost:8080/"
        },
        "id": "lv0-xA3XHU4O",
        "outputId": "e9940322-baca-4e60-98f5-78051c4b31df"
      },
      "execution_count": 30,
      "outputs": [
        {
          "output_type": "stream",
          "name": "stdout",
          "text": [
            "<class 'pyspark.rdd.RDD'>\n"
          ]
        }
      ]
    },
    {
      "cell_type": "markdown",
      "source": [
        "**Código Plural**"
      ],
      "metadata": {
        "id": "7445eGC_GyYj"
      }
    },
    {
      "cell_type": "code",
      "source": [
        "def Plural(palavra):\n",
        "    \"\"\"Adds an 's' to `palavra`.\n",
        "\n",
        "    Args:\n",
        "        palavra (str): A string.\n",
        "\n",
        "    Returns:\n",
        "        str: A string with 's' added to it.\n",
        "    \"\"\"\n",
        "    return f\"{palavra}s\"\n",
        "print(Plural('amigo'))"
      ],
      "metadata": {
        "colab": {
          "base_uri": "https://localhost:8080/"
        },
        "id": "wX2olihXGlj4",
        "outputId": "4bc0a815-d6fb-4cd3-aa87-a8ee006e3d49"
      },
      "execution_count": 31,
      "outputs": [
        {
          "output_type": "stream",
          "name": "stdout",
          "text": [
            "amigos\n"
          ]
        }
      ]
    },
    {
      "cell_type": "markdown",
      "source": [
        "**Código RDD**"
      ],
      "metadata": {
        "id": "c7X_Bm5QG8z3"
      }
    },
    {
      "cell_type": "code",
      "source": [
        "pluralRDD = palavrasRDD.map(Plural)\n",
        "pluralRDD.collect()"
      ],
      "metadata": {
        "colab": {
          "base_uri": "https://localhost:8080/"
        },
        "id": "tCg-IjnXG38S",
        "outputId": "39bbc359-bd44-4ae2-c657-03c275873146"
      },
      "execution_count": 32,
      "outputs": [
        {
          "output_type": "execute_result",
          "data": {
            "text/plain": [
              "['loros', 'elefantes', 'perros', 'ratos', 'gatos']"
            ]
          },
          "metadata": {},
          "execution_count": 32
        }
      ]
    },
    {
      "cell_type": "markdown",
      "source": [
        "**Función Lambda**"
      ],
      "metadata": {
        "id": "jWLdZrmDHnLY"
      }
    },
    {
      "cell_type": "code",
      "source": [
        "pluralLambdaRDD = palavrasRDD.map(lambda x: f\"{x}s\")\n",
        "pluralLambdaRDD.collect()"
      ],
      "metadata": {
        "colab": {
          "base_uri": "https://localhost:8080/"
        },
        "id": "0oNJm24dHKhd",
        "outputId": "3ca66f33-151d-4bb5-90e6-a62f77bab5ee"
      },
      "execution_count": 33,
      "outputs": [
        {
          "output_type": "execute_result",
          "data": {
            "text/plain": [
              "['loros', 'elefantes', 'perros', 'ratos', 'gatos']"
            ]
          },
          "metadata": {},
          "execution_count": 33
        }
      ]
    },
    {
      "cell_type": "markdown",
      "source": [
        "**Tamaño de palabra**"
      ],
      "metadata": {
        "id": "KkRicwciHtwE"
      }
    },
    {
      "cell_type": "code",
      "source": [
        "pluralTamanho = (pluralRDD\n",
        "                 .map(lambda x:len(x))\n",
        "                 .collect()\n",
        "                 )\n",
        "print (pluralTamanho)"
      ],
      "metadata": {
        "colab": {
          "base_uri": "https://localhost:8080/"
        },
        "id": "8GZkekxUHxRA",
        "outputId": "b43693ff-0a3f-4487-9a8b-d6d5c3df2eee"
      },
      "execution_count": 34,
      "outputs": [
        {
          "output_type": "stream",
          "name": "stdout",
          "text": [
            "[5, 9, 6, 5, 5]\n"
          ]
        }
      ]
    },
    {
      "cell_type": "markdown",
      "source": [
        "**RDD de pares y tuplas**"
      ],
      "metadata": {
        "id": "-mK7kM71H2Kh"
      }
    },
    {
      "cell_type": "code",
      "source": [
        "palavraPar = palavrasRDD.map(lambda x: (x, 1))\n",
        "print (palavraPar.collect())"
      ],
      "metadata": {
        "colab": {
          "base_uri": "https://localhost:8080/"
        },
        "id": "QIBKG-RHH3yZ",
        "outputId": "6611c1e2-1e5d-46c8-e6af-060202947538"
      },
      "execution_count": 37,
      "outputs": [
        {
          "output_type": "stream",
          "name": "stdout",
          "text": [
            "[('loro', 1), ('elefante', 1), ('perro', 1), ('rato', 1), ('gato', 1)]\n"
          ]
        }
      ]
    },
    {
      "cell_type": "markdown",
      "source": [
        "**Manipulación de Tuplas RDD**"
      ],
      "metadata": {
        "id": "F_42MTweIVMD"
      }
    },
    {
      "cell_type": "code",
      "source": [
        "palavrasGrupo = palavraPar.groupByKey()\n",
        "for chave, valor in palavrasGrupo.collect():\n",
        "    valores = list(valor)\n",
        "    print(f'{chave}: {valores}')"
      ],
      "metadata": {
        "colab": {
          "base_uri": "https://localhost:8080/"
        },
        "id": "G9qqtY0kIUA5",
        "outputId": "3563f09c-f2d1-453c-8b7d-bdf41186f0ac"
      },
      "execution_count": 38,
      "outputs": [
        {
          "output_type": "stream",
          "name": "stdout",
          "text": [
            "loro: [1]\n",
            "elefante: [1]\n",
            "rato: [1]\n",
            "gato: [1]\n",
            "perro: [1]\n"
          ]
        }
      ]
    },
    {
      "cell_type": "markdown",
      "source": [
        "**Cálculo de los recuentos**"
      ],
      "metadata": {
        "id": "Vr2KuGwiId-T"
      }
    },
    {
      "cell_type": "code",
      "source": [
        "contagemGroup = palavrasGrupo.map(lambda x:(x[0],sum(x[1])))\n"
      ],
      "metadata": {
        "id": "XyThB_HhIfTx"
      },
      "execution_count": 41,
      "outputs": []
    },
    {
      "cell_type": "markdown",
      "source": [
        "**reduceByKey**"
      ],
      "metadata": {
        "id": "hLk4chRWIrcU"
      }
    },
    {
      "cell_type": "code",
      "source": [
        "contagem = palavraPar.reduceByKey(lambda x,y:x+y)\n",
        "print( contagem.collect())"
      ],
      "metadata": {
        "colab": {
          "base_uri": "https://localhost:8080/"
        },
        "id": "dANKuMnzIrBU",
        "outputId": "dc6568ca-d509-4403-88c7-77db60b6e924"
      },
      "execution_count": 42,
      "outputs": [
        {
          "output_type": "stream",
          "name": "stdout",
          "text": [
            "[('loro', 1), ('elefante', 1), ('rato', 1), ('gato', 1), ('perro', 1)]\n"
          ]
        }
      ]
    },
    {
      "cell_type": "markdown",
      "source": [
        "**Comando de agrupación**"
      ],
      "metadata": {
        "id": "PHhgjVTtIyvz"
      }
    },
    {
      "cell_type": "code",
      "source": [
        "contagemFinal = (palavrasRDD\n",
        "                 .map(lambda x: (x, 1)).reduceByKey(lambda x, y: x + y)\n",
        "                 .collect())\n",
        "print (contagemFinal)"
      ],
      "metadata": {
        "colab": {
          "base_uri": "https://localhost:8080/"
        },
        "id": "gHSy86TFEwd-",
        "outputId": "c6141991-2b0e-4cf4-8629-6bad757c150f"
      },
      "execution_count": 43,
      "outputs": [
        {
          "output_type": "stream",
          "name": "stdout",
          "text": [
            "[('loro', 1), ('elefante', 1), ('rato', 1), ('gato', 1), ('perro', 1)]\n"
          ]
        }
      ]
    },
    {
      "cell_type": "markdown",
      "source": [
        "**Palabras únicas**"
      ],
      "metadata": {
        "id": "y2xx5A5JI2Tn"
      }
    },
    {
      "cell_type": "code",
      "source": [
        "palavrasUnicas = palavrasRDD.distinct().count()\n",
        "print (palavrasUnicas)"
      ],
      "metadata": {
        "colab": {
          "base_uri": "https://localhost:8080/"
        },
        "id": "L0rWk1-zI_Lt",
        "outputId": "a135897d-65c7-4cf9-dffa-dfc0c95bb9de"
      },
      "execution_count": 44,
      "outputs": [
        {
          "output_type": "stream",
          "name": "stdout",
          "text": [
            "5\n"
          ]
        }
      ]
    },
    {
      "cell_type": "markdown",
      "source": [
        "**Recuento promedio de palabras**"
      ],
      "metadata": {
        "id": "ivWiVi3jJGNl"
      }
    },
    {
      "cell_type": "code",
      "source": [
        "from operator import add\n",
        "total = (contagem.map(lambda x: x[1]).reduce(add)) \n",
        "media = total / float(palavrasUnicas)\n",
        "print (total)"
      ],
      "metadata": {
        "colab": {
          "base_uri": "https://localhost:8080/"
        },
        "id": "m1ZGpQu-JJ-w",
        "outputId": "df9e4697-999e-4d45-a053-cc1e897848c3"
      },
      "execution_count": 49,
      "outputs": [
        {
          "output_type": "stream",
          "name": "stdout",
          "text": [
            "5\n"
          ]
        }
      ]
    }
  ]
}